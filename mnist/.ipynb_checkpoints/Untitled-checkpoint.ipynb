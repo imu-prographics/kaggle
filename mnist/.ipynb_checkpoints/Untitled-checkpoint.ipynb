{
 "cells": [
  {
   "cell_type": "code",
   "execution_count": 1,
   "metadata": {},
   "outputs": [],
   "source": [
    "import pandas as pd\n",
    "import numpy as np\n",
    "import matplotlib.pyplot as plt\n",
    "import matplotlib.image as mpimg\n",
    "import seaborn as sns\n",
    "%matplotlib inline"
   ]
  },
  {
   "cell_type": "code",
   "execution_count": 2,
   "metadata": {},
   "outputs": [],
   "source": [
    "from sklearn.model_selection import train_test_split\n",
    "from sklearn.model_selection import KFold\n",
    "from sklearn.metrics import confusion_matrix\n",
    "import itertools"
   ]
  },
  {
   "cell_type": "code",
   "execution_count": 3,
   "metadata": {},
   "outputs": [],
   "source": [
    "train = pd.read_csv(\"./train.csv\")\n",
    "test = pd.read_csv(\"./test.csv\")"
   ]
  },
  {
   "cell_type": "code",
   "execution_count": 4,
   "metadata": {},
   "outputs": [],
   "source": [
    "Y_train = train[\"label\"]\n",
    "X_train = train.drop(labels=[\"label\"],axis=1)"
   ]
  },
  {
   "cell_type": "code",
   "execution_count": 5,
   "metadata": {},
   "outputs": [
    {
     "data": {
      "text/plain": [
       "1    4684\n",
       "7    4401\n",
       "3    4351\n",
       "9    4188\n",
       "2    4177\n",
       "6    4137\n",
       "0    4132\n",
       "4    4072\n",
       "8    4063\n",
       "5    3795\n",
       "Name: label, dtype: int64"
      ]
     },
     "execution_count": 5,
     "metadata": {},
     "output_type": "execute_result"
    },
    {
     "data": {
      "image/png": "[encoded data removed]",
      "text/plain": [
       "<Figure size 432x288 with 1 Axes>"
      ]
     },
     "metadata": {
      "needs_background": "light"
     },
     "output_type": "display_data"
    }
   ],
   "source": [
    "g = sns.countplot(Y_train)\n",
    "Y_train.value_counts()"
   ]
  },
  {
   "cell_type": "code",
   "execution_count": 6,
   "metadata": {},
   "outputs": [
    {
     "data": {
      "text/plain": [
       "count       784\n",
       "unique        1\n",
       "top       False\n",
       "freq        784\n",
       "dtype: object"
      ]
     },
     "execution_count": 6,
     "metadata": {},
     "output_type": "execute_result"
    }
   ],
   "source": [
    "X_train.isnull().any().describe()"
   ]
  },
  {
   "cell_type": "code",
   "execution_count": 7,
   "metadata": {},
   "outputs": [
    {
     "data": {
      "text/plain": [
       "count       784\n",
       "unique        1\n",
       "top       False\n",
       "freq        784\n",
       "dtype: object"
      ]
     },
     "execution_count": 7,
     "metadata": {},
     "output_type": "execute_result"
    }
   ],
   "source": [
    "test.isnull().any().describe()"
   ]
  },
  {
   "cell_type": "code",
   "execution_count": 8,
   "metadata": {},
   "outputs": [],
   "source": [
    "X_train = X_train / 255.0\n",
    "test = test /255.0"
   ]
  },
  {
   "cell_type": "code",
   "execution_count": 9,
   "metadata": {},
   "outputs": [],
   "source": [
    "X_train = X_train.values.reshape(-1,28,28,1)\n",
    "test = test.values.reshape(-1,28,28,1)"
   ]
  },
  {
   "cell_type": "code",
   "execution_count": 10,
   "metadata": {},
   "outputs": [
    {
     "name": "stderr",
     "output_type": "stream",
     "text": [
      "Using TensorFlow backend.\n"
     ]
    }
   ],
   "source": [
    "from keras.utils.np_utils import to_categorical\n",
    "from keras.models import Sequential, Model\n",
    "from keras.layers import Dense, Dropout, Flatten, Conv2D, MaxPool2D, Input,Activation, AveragePooling2D, BatchNormalization\n",
    "from keras.optimizers import RMSprop\n",
    "from keras.preprocessing.image import ImageDataGenerator\n",
    "from keras.callbacks import ReduceLROnPlateau, EarlyStopping"
   ]
  },
  {
   "cell_type": "code",
   "execution_count": 11,
   "metadata": {},
   "outputs": [],
   "source": [
    "Y_train = to_categorical(Y_train, num_classes=10)\n",
    "random_seed = 2\n",
    "X_train, X_val, Y_train, Y_val = train_test_split(X_train, Y_train, test_size = 0.1, random_state=random_seed)"
   ]
  },
  {
   "cell_type": "code",
   "execution_count": 12,
   "metadata": {},
   "outputs": [],
   "source": [
    "input_layer = Input(shape=(28,28,1))\n",
    "\n",
    "x = Conv2D(filters=32, kernel_size=5, padding='same', activation='relu')(input_layer)\n",
    "x = Dropout(0.5)(x)\n",
    "x = MaxPool2D(pool_size=(2,2))(x)\n",
    "x = Conv2D(filters=64, kernel_size=3, padding='same', activation='relu')(x)\n",
    "x = Dropout(0.5)(x)\n",
    "x = MaxPool2D(pool_size=(2,2))(x)\n",
    "\n",
    "x = Conv2D(filters=64, kernel_size=3, padding='same', activation='relu')(x)\n",
    "x = Dropout(0.5)(x)\n",
    "x = MaxPool2D(pool_size=(2,2))(x)\n",
    "x = Conv2D(filters=64, kernel_size=3, padding='same', activation='relu')(x)\n",
    "x = Dropout(0.5)(x)\n",
    "\n",
    "x = Flatten()(x)\n",
    "x = Dense(64, activation='relu')(x)\n",
    "x = Dense(10, activation='softmax')(x)\n",
    "\n",
    "model = Model(inputs=input_layer, outputs=x)"
   ]
  },
  {
   "cell_type": "code",
   "execution_count": 13,
   "metadata": {},
   "outputs": [],
   "source": [
    "optimizer = RMSprop(lr=0.001, rho=0.9, epsilon=1e-08,decay=0.0)"
   ]
  },
  {
   "cell_type": "code",
   "execution_count": 14,
   "metadata": {},
   "outputs": [],
   "source": [
    "model.compile(optimizer=optimizer, loss=\"categorical_crossentropy\",metrics=[\"accuracy\"])"
   ]
  },
  {
   "cell_type": "code",
   "execution_count": 15,
   "metadata": {},
   "outputs": [],
   "source": [
    "learning_rate_reduction = ReduceLROnPlateau(monitor='val_acc', \n",
    "                                            patience=3, \n",
    "                                            verbose=1, \n",
    "                                            factor=0.5, \n",
    "                                            min_lr=0.00001)\n",
    "early_stopping = EarlyStopping(patience=5)"
   ]
  },
  {
   "cell_type": "code",
   "execution_count": 16,
   "metadata": {},
   "outputs": [],
   "source": [
    "epochs = 30 # Turn epochs to 30 to get 0.9967 accuracy\n",
    "batch_size = 2048"
   ]
  },
  {
   "cell_type": "code",
   "execution_count": 17,
   "metadata": {},
   "outputs": [],
   "source": [
    "datagen = ImageDataGenerator(\n",
    "        featurewise_center=False,  # set input mean to 0 over the dataset\n",
    "        samplewise_center=False,  # set each sample mean to 0\n",
    "        featurewise_std_normalization=False,  # divide inputs by std of the dataset\n",
    "        samplewise_std_normalization=False,  # divide each input by its std\n",
    "        zca_whitening=False,  # apply ZCA whitening\n",
    "        rotation_range=10,  # randomly rotate images in the range (degrees, 0 to 180)\n",
    "        zoom_range = 0.1, # Randomly zoom image \n",
    "        width_shift_range=0.1,  # randomly shift images horizontally (fraction of total width)\n",
    "        height_shift_range=0.1,  # randomly shift images vertically (fraction of total height)\n",
    "        horizontal_flip=False,  # randomly flip images\n",
    "        vertical_flip=False)  # randomly flip images\n",
    "\n",
    "\n",
    "datagen.fit(X_train)"
   ]
  },
  {
   "cell_type": "code",
   "execution_count": 18,
   "metadata": {},
   "outputs": [
    {
     "name": "stdout",
     "output_type": "stream",
     "text": [
      "Epoch 1/50\n",
      " - 10s - loss: 1.2964 - acc: 0.5646 - val_loss: 0.7824 - val_acc: 0.8593\n",
      "Epoch 2/50\n",
      " - 9s - loss: 0.5279 - acc: 0.8316 - val_loss: 0.4212 - val_acc: 0.9436\n",
      "Epoch 3/50\n",
      " - 9s - loss: 0.3232 - acc: 0.8990 - val_loss: 0.3062 - val_acc: 0.9721\n",
      "Epoch 4/50\n",
      " - 8s - loss: 0.2410 - acc: 0.9252 - val_loss: 0.2398 - val_acc: 0.9748\n",
      "Epoch 5/50\n",
      " - 9s - loss: 0.1887 - acc: 0.9412 - val_loss: 0.2492 - val_acc: 0.9762\n",
      "Epoch 6/50\n",
      " - 9s - loss: 0.1551 - acc: 0.9516 - val_loss: 0.1935 - val_acc: 0.9774\n",
      "Epoch 7/50\n",
      " - 9s - loss: 0.1449 - acc: 0.9552 - val_loss: 0.2225 - val_acc: 0.9733\n",
      "Epoch 8/50\n",
      " - 9s - loss: 0.1310 - acc: 0.9587 - val_loss: 0.1495 - val_acc: 0.9814\n",
      "Epoch 9/50\n",
      " - 9s - loss: 0.1124 - acc: 0.9652 - val_loss: 0.1386 - val_acc: 0.9898\n",
      "Epoch 10/50\n",
      " - 9s - loss: 0.1050 - acc: 0.9668 - val_loss: 0.1460 - val_acc: 0.9852\n",
      "Epoch 11/50\n",
      " - 9s - loss: 0.0960 - acc: 0.9703 - val_loss: 0.0979 - val_acc: 0.9888\n",
      "Epoch 12/50\n",
      " - 8s - loss: 0.0905 - acc: 0.9717 - val_loss: 0.1118 - val_acc: 0.9890\n",
      "\n",
      "Epoch 00012: ReduceLROnPlateau reducing learning rate to 0.0005000000237487257.\n",
      "Epoch 13/50\n",
      " - 9s - loss: 0.0729 - acc: 0.9773 - val_loss: 0.0913 - val_acc: 0.9900\n",
      "Epoch 14/50\n",
      " - 9s - loss: 0.0672 - acc: 0.9783 - val_loss: 0.0862 - val_acc: 0.9917\n",
      "Epoch 15/50\n",
      " - 9s - loss: 0.0680 - acc: 0.9782 - val_loss: 0.0886 - val_acc: 0.9914\n",
      "Epoch 16/50\n",
      " - 9s - loss: 0.0662 - acc: 0.9791 - val_loss: 0.0824 - val_acc: 0.9919\n",
      "Epoch 17/50\n",
      " - 9s - loss: 0.0616 - acc: 0.9808 - val_loss: 0.0855 - val_acc: 0.9910\n",
      "Epoch 18/50\n",
      " - 8s - loss: 0.0620 - acc: 0.9803 - val_loss: 0.1032 - val_acc: 0.9883\n",
      "Epoch 19/50\n",
      " - 9s - loss: 0.0586 - acc: 0.9815 - val_loss: 0.0805 - val_acc: 0.9914\n",
      "\n",
      "Epoch 00019: ReduceLROnPlateau reducing learning rate to 0.0002500000118743628.\n",
      "Epoch 20/50\n",
      " - 9s - loss: 0.0554 - acc: 0.9827 - val_loss: 0.0822 - val_acc: 0.9907\n",
      "Epoch 21/50\n",
      " - 9s - loss: 0.0524 - acc: 0.9831 - val_loss: 0.0733 - val_acc: 0.9914\n",
      "Epoch 22/50\n",
      " - 9s - loss: 0.0534 - acc: 0.9835 - val_loss: 0.0755 - val_acc: 0.9912\n",
      "\n",
      "Epoch 00022: ReduceLROnPlateau reducing learning rate to 0.0001250000059371814.\n",
      "Epoch 23/50\n",
      " - 9s - loss: 0.0508 - acc: 0.9835 - val_loss: 0.0735 - val_acc: 0.9914\n",
      "Epoch 24/50\n",
      " - 9s - loss: 0.0496 - acc: 0.9842 - val_loss: 0.0703 - val_acc: 0.9919\n",
      "Epoch 25/50\n",
      " - 9s - loss: 0.0522 - acc: 0.9841 - val_loss: 0.0728 - val_acc: 0.9921\n",
      "Epoch 26/50\n",
      " - 8s - loss: 0.0483 - acc: 0.9855 - val_loss: 0.0695 - val_acc: 0.9926\n",
      "Epoch 27/50\n",
      " - 9s - loss: 0.0492 - acc: 0.9840 - val_loss: 0.0710 - val_acc: 0.9919\n",
      "Epoch 28/50\n",
      " - 9s - loss: 0.0459 - acc: 0.9852 - val_loss: 0.0707 - val_acc: 0.9910\n",
      "Epoch 29/50\n",
      " - 9s - loss: 0.0507 - acc: 0.9841 - val_loss: 0.0772 - val_acc: 0.9905\n",
      "\n",
      "Epoch 00029: ReduceLROnPlateau reducing learning rate to 6.25000029685907e-05.\n",
      "Epoch 30/50\n",
      " - 9s - loss: 0.0496 - acc: 0.9844 - val_loss: 0.0731 - val_acc: 0.9914\n",
      "Epoch 31/50\n",
      " - 9s - loss: 0.0468 - acc: 0.9861 - val_loss: 0.0708 - val_acc: 0.9914\n"
     ]
    }
   ],
   "source": [
    "history = model.fit_generator(datagen.flow(X_train,Y_train, batch_size=batch_size),\n",
    "                              epochs = epochs, validation_data = (X_val,Y_val),\n",
    "                              verbose = 2, steps_per_epoch=X_train.shape[0] // batch_size\n",
    "                              , callbacks=[learning_rate_reduction, early_stopping])"
   ]
  },
  {
   "cell_type": "code",
   "execution_count": 19,
   "metadata": {},
   "outputs": [
    {
     "data": {
      "image/png": "[encoded data removed]",
      "text/plain": [
       "<Figure size 432x288 with 2 Axes>"
      ]
     },
     "metadata": {
      "needs_background": "light"
     },
     "output_type": "display_data"
    }
   ],
   "source": [
    "fig, ax = plt.subplots(2,1)\n",
    "ax[0].plot(history.history['loss'], color='b', label=\"Training loss\")\n",
    "ax[0].plot(history.history['val_loss'], color='r', label=\"validation loss\",axes =ax[0])\n",
    "legend = ax[0].legend(loc='best', shadow=True)\n",
    "\n",
    "ax[1].plot(history.history['acc'], color='b', label=\"Training accuracy\")\n",
    "ax[1].plot(history.history['val_acc'], color='r',label=\"Validation accuracy\")\n",
    "legend = ax[1].legend(loc='best', shadow=True)"
   ]
  },
  {
   "cell_type": "code",
   "execution_count": 20,
   "metadata": {},
   "outputs": [],
   "source": [
    "results = model.predict(test)\n",
    "\n",
    "# select the indix with the maximum probability\n",
    "results = np.argmax(results,axis = 1)\n",
    "\n",
    "results = pd.Series(results,name=\"Label\")"
   ]
  },
  {
   "cell_type": "code",
   "execution_count": 21,
   "metadata": {},
   "outputs": [],
   "source": [
    "submission = pd.concat([pd.Series(range(1,28001),name = \"ImageId\"),results],axis = 1)\n",
    "\n",
    "submission.to_csv(\"cnn_mnist_datagen.csv\",index=False)"
   ]
  },
  {
   "cell_type": "code",
   "execution_count": null,
   "metadata": {},
   "outputs": [],
   "source": []
  },
  {
   "cell_type": "code",
   "execution_count": null,
   "metadata": {},
   "outputs": [],
   "source": []
  }
 ],
 "metadata": {
  "kernelspec": {
   "display_name": "Python 3",
   "language": "python",
   "name": "python3"
  },
  "language_info": {
   "codemirror_mode": {
    "name": "ipython",
    "version": 3
   },
   "file_extension": ".py",
   "mimetype": "text/x-python",
   "name": "python",
   "nbconvert_exporter": "python",
   "pygments_lexer": "ipython3",
   "version": "3.5.0"
  }
 },
 "nbformat": 4,
 "nbformat_minor": 2
}
