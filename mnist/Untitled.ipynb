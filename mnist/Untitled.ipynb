{
 "cells": [
  {
   "cell_type": "code",
   "execution_count": 1,
   "metadata": {},
   "outputs": [],
   "source": [
    "import pandas as pd\n",
    "import numpy as np\n",
    "import matplotlib.pyplot as plt\n",
    "import matplotlib.image as mpimg\n",
    "import seaborn as sns\n",
    "%matplotlib inline"
   ]
  },
  {
   "cell_type": "code",
   "execution_count": 2,
   "metadata": {},
   "outputs": [],
   "source": [
    "from sklearn.model_selection import train_test_split\n",
    "from sklearn.model_selection import KFold\n",
    "from sklearn.metrics import confusion_matrix\n",
    "import itertools"
   ]
  },
  {
   "cell_type": "code",
   "execution_count": 3,
   "metadata": {},
   "outputs": [],
   "source": [
    "train = pd.read_csv(\"./train.csv\")\n",
    "test = pd.read_csv(\"./test.csv\")"
   ]
  },
  {
   "cell_type": "code",
   "execution_count": 4,
   "metadata": {},
   "outputs": [],
   "source": [
    "Y_train = train[\"label\"]\n",
    "X_train = train.drop(labels=[\"label\"],axis=1)"
   ]
  },
  {
   "cell_type": "code",
   "execution_count": 5,
   "metadata": {},
   "outputs": [
    {
     "data": {
      "text/plain": [
       "1    4684\n",
       "7    4401\n",
       "3    4351\n",
       "9    4188\n",
       "2    4177\n",
       "6    4137\n",
       "0    4132\n",
       "4    4072\n",
       "8    4063\n",
       "5    3795\n",
       "Name: label, dtype: int64"
      ]
     },
     "execution_count": 5,
     "metadata": {},
     "output_type": "execute_result"
    },
    {
     "data": {
      "image/png": "[encoded data removed]",
      "text/plain": [
       "<Figure size 432x288 with 1 Axes>"
      ]
     },
     "metadata": {
      "needs_background": "light"
     },
     "output_type": "display_data"
    }
   ],
   "source": [
    "g = sns.countplot(Y_train)\n",
    "Y_train.value_counts()"
   ]
  },
  {
   "cell_type": "code",
   "execution_count": 6,
   "metadata": {},
   "outputs": [
    {
     "data": {
      "text/plain": [
       "count       784\n",
       "unique        1\n",
       "top       False\n",
       "freq        784\n",
       "dtype: object"
      ]
     },
     "execution_count": 6,
     "metadata": {},
     "output_type": "execute_result"
    }
   ],
   "source": [
    "X_train.isnull().any().describe()"
   ]
  },
  {
   "cell_type": "code",
   "execution_count": 7,
   "metadata": {},
   "outputs": [
    {
     "data": {
      "text/plain": [
       "count       784\n",
       "unique        1\n",
       "top       False\n",
       "freq        784\n",
       "dtype: object"
      ]
     },
     "execution_count": 7,
     "metadata": {},
     "output_type": "execute_result"
    }
   ],
   "source": [
    "test.isnull().any().describe()"
   ]
  },
  {
   "cell_type": "code",
   "execution_count": 8,
   "metadata": {},
   "outputs": [],
   "source": [
    "X_train = X_train / 255.0\n",
    "test = test /255.0"
   ]
  },
  {
   "cell_type": "code",
   "execution_count": 9,
   "metadata": {},
   "outputs": [],
   "source": [
    "X_train = X_train.values.reshape(-1,28,28,1)\n",
    "test = test.values.reshape(-1,28,28,1)"
   ]
  },
  {
   "cell_type": "code",
   "execution_count": 10,
   "metadata": {},
   "outputs": [
    {
     "name": "stderr",
     "output_type": "stream",
     "text": [
      "Using TensorFlow backend.\n"
     ]
    }
   ],
   "source": [
    "from keras.utils.np_utils import to_categorical\n",
    "from keras.models import Sequential, Model\n",
    "from keras.layers import Dense, Dropout, Flatten, Conv2D, MaxPool2D, Input,Activation, AveragePooling2D, BatchNormalization\n",
    "from keras import layers\n",
    "from keras.optimizers import RMSprop, SGD, Adam\n",
    "from keras.preprocessing.image import ImageDataGenerator\n",
    "from keras.callbacks import ReduceLROnPlateau, EarlyStopping"
   ]
  },
  {
   "cell_type": "code",
   "execution_count": 11,
   "metadata": {},
   "outputs": [],
   "source": [
    "Y_train = to_categorical(Y_train, num_classes=10)\n",
    "random_seed = 2\n",
    "X_train, X_val, Y_train, Y_val = train_test_split(X_train, Y_train, test_size = 0.1, random_state=random_seed)"
   ]
  },
  {
   "cell_type": "code",
   "execution_count": 12,
   "metadata": {},
   "outputs": [],
   "source": [
    "def residual_block(a, filters):\n",
    "    for i in range(3):\n",
    "        x = BatchNormalization()(a)\n",
    "        x = Activation('relu')(x)\n",
    "        x = Conv2D(filters=filters, kernel_size=3, padding='same')(x)\n",
    "        x = BatchNormalization()(x)\n",
    "        x = Activation('relu')(x)\n",
    "        x = Conv2D(filters=filters, kernel_size=3, padding='same')(x)\n",
    "        x = layers.add([x, a])\n",
    "    x = MaxPool2D(pool_size=(1,1), strides=(2,2), padding='same')(x)\n",
    "    x = Conv2D(filters=filters*2,kernel_size=1,padding='same')(x)\n",
    "    return x\n",
    "\n",
    "input_layer = Input(shape=(28,28,1))\n",
    "x = Conv2D(filters=64, kernel_size=7, padding='same')(input_layer)\n",
    "x = MaxPool2D(pool_size=(2,2))(x)\n",
    "\n",
    "x = residual_block(x,64)\n",
    "x = residual_block(x,128)\n",
    "x = AveragePooling2D(pool_size=(2,2))(x)\n",
    "\n",
    "x = Flatten()(x)\n",
    "x = Dense(10, activation='softmax')(x)\n",
    "\n",
    "model = Model(inputs=input_layer, outputs=x)"
   ]
  },
  {
   "cell_type": "code",
   "execution_count": 13,
   "metadata": {},
   "outputs": [],
   "source": [
    "optimizer = Adam()"
   ]
  },
  {
   "cell_type": "code",
   "execution_count": 14,
   "metadata": {},
   "outputs": [],
   "source": [
    "model.compile(optimizer=optimizer, loss=\"categorical_crossentropy\",metrics=[\"accuracy\"])"
   ]
  },
  {
   "cell_type": "code",
   "execution_count": 15,
   "metadata": {},
   "outputs": [],
   "source": [
    "learning_rate_reduction = ReduceLROnPlateau(monitor='val_acc', \n",
    "                                            patience=3, \n",
    "                                            verbose=1, \n",
    "                                            factor=0.5, \n",
    "                                            min_lr=0.00001)\n",
    "early_stopping = EarlyStopping(patience=5)"
   ]
  },
  {
   "cell_type": "code",
   "execution_count": 16,
   "metadata": {},
   "outputs": [],
   "source": [
    "epochs = 200 # Turn epochs to 30 to get 0.9967 accuracy\n",
    "batch_size = 2048"
   ]
  },
  {
   "cell_type": "code",
   "execution_count": 17,
   "metadata": {},
   "outputs": [],
   "source": [
    "datagen = ImageDataGenerator(\n",
    "        featurewise_center=False,  # set input mean to 0 over the dataset\n",
    "        samplewise_center=False,  # set each sample mean to 0\n",
    "        featurewise_std_normalization=False,  # divide inputs by std of the dataset\n",
    "        samplewise_std_normalization=False,  # divide each input by its std\n",
    "        zca_whitening=False,  # apply ZCA whitening\n",
    "        rotation_range=10,  # randomly rotate images in the range (degrees, 0 to 180)\n",
    "        zoom_range = 0.1, # Randomly zoom image \n",
    "        width_shift_range=0.1,  # randomly shift images horizontally (fraction of total width)\n",
    "        height_shift_range=0.1,  # randomly shift images vertically (fraction of total height)\n",
    "        horizontal_flip=False,  # randomly flip images\n",
    "        vertical_flip=False)  # randomly flip images\n",
    "\n",
    "\n",
    "datagen.fit(X_train)"
   ]
  },
  {
   "cell_type": "code",
   "execution_count": 18,
   "metadata": {},
   "outputs": [
    {
     "name": "stdout",
     "output_type": "stream",
     "text": [
      "Epoch 1/200\n",
      " - 10s - loss: 1.3249 - acc: 0.5744 - val_loss: 0.5105 - val_acc: 0.8657\n",
      "Epoch 2/200\n",
      " - 9s - loss: 0.2762 - acc: 0.9206 - val_loss: 0.3190 - val_acc: 0.9121\n",
      "Epoch 3/200\n",
      " - 8s - loss: 0.1436 - acc: 0.9563 - val_loss: 0.4941 - val_acc: 0.8321\n",
      "Epoch 4/200\n",
      " - 8s - loss: 0.1002 - acc: 0.9694 - val_loss: 0.5667 - val_acc: 0.8210\n",
      "Epoch 5/200\n",
      " - 9s - loss: 0.0812 - acc: 0.9745 - val_loss: 0.2726 - val_acc: 0.9117\n",
      "\n",
      "Epoch 00005: ReduceLROnPlateau reducing learning rate to 0.0005000000237487257.\n",
      "Epoch 6/200\n",
      " - 9s - loss: 0.0670 - acc: 0.9795 - val_loss: 0.1489 - val_acc: 0.9498\n",
      "Epoch 7/200\n",
      " - 9s - loss: 0.0600 - acc: 0.9819 - val_loss: 0.3730 - val_acc: 0.8781\n",
      "Epoch 8/200\n",
      " - 9s - loss: 0.0567 - acc: 0.9828 - val_loss: 0.1530 - val_acc: 0.9505\n",
      "Epoch 9/200\n",
      " - 9s - loss: 0.0519 - acc: 0.9838 - val_loss: 0.1458 - val_acc: 0.9533\n",
      "Epoch 10/200\n",
      " - 9s - loss: 0.0528 - acc: 0.9845 - val_loss: 0.2286 - val_acc: 0.9224\n",
      "Epoch 11/200\n",
      " - 9s - loss: 0.0465 - acc: 0.9863 - val_loss: 0.0809 - val_acc: 0.9757\n",
      "Epoch 12/200\n",
      " - 9s - loss: 0.0461 - acc: 0.9860 - val_loss: 0.0538 - val_acc: 0.9850\n",
      "Epoch 13/200\n",
      " - 9s - loss: 0.0443 - acc: 0.9871 - val_loss: 0.0531 - val_acc: 0.9840\n",
      "Epoch 14/200\n",
      " - 9s - loss: 0.0394 - acc: 0.9877 - val_loss: 0.0552 - val_acc: 0.9840\n",
      "Epoch 15/200\n",
      " - 9s - loss: 0.0400 - acc: 0.9876 - val_loss: 0.0645 - val_acc: 0.9800\n",
      "\n",
      "Epoch 00015: ReduceLROnPlateau reducing learning rate to 0.0002500000118743628.\n",
      "Epoch 16/200\n",
      " - 9s - loss: 0.0358 - acc: 0.9889 - val_loss: 0.0585 - val_acc: 0.9838\n",
      "Epoch 17/200\n",
      " - 9s - loss: 0.0355 - acc: 0.9896 - val_loss: 0.0402 - val_acc: 0.9888\n",
      "Epoch 18/200\n",
      " - 9s - loss: 0.0336 - acc: 0.9900 - val_loss: 0.0423 - val_acc: 0.9886\n",
      "Epoch 19/200\n",
      " - 9s - loss: 0.0330 - acc: 0.9894 - val_loss: 0.0405 - val_acc: 0.9895\n",
      "Epoch 20/200\n",
      " - 9s - loss: 0.0315 - acc: 0.9901 - val_loss: 0.0339 - val_acc: 0.9907\n",
      "Epoch 21/200\n",
      " - 8s - loss: 0.0299 - acc: 0.9907 - val_loss: 0.0333 - val_acc: 0.9900\n",
      "Epoch 22/200\n",
      " - 9s - loss: 0.0312 - acc: 0.9903 - val_loss: 0.0324 - val_acc: 0.9905\n",
      "Epoch 23/200\n",
      " - 8s - loss: 0.0305 - acc: 0.9904 - val_loss: 0.0319 - val_acc: 0.9907\n",
      "\n",
      "Epoch 00023: ReduceLROnPlateau reducing learning rate to 0.0001250000059371814.\n",
      "Epoch 24/200\n",
      " - 9s - loss: 0.0274 - acc: 0.9918 - val_loss: 0.0305 - val_acc: 0.9910\n",
      "Epoch 25/200\n",
      " - 9s - loss: 0.0300 - acc: 0.9914 - val_loss: 0.0338 - val_acc: 0.9905\n",
      "Epoch 26/200\n",
      " - 9s - loss: 0.0282 - acc: 0.9913 - val_loss: 0.0325 - val_acc: 0.9905\n",
      "Epoch 27/200\n",
      " - 9s - loss: 0.0267 - acc: 0.9918 - val_loss: 0.0347 - val_acc: 0.9886\n",
      "\n",
      "Epoch 00027: ReduceLROnPlateau reducing learning rate to 6.25000029685907e-05.\n",
      "Epoch 28/200\n",
      " - 9s - loss: 0.0250 - acc: 0.9922 - val_loss: 0.0303 - val_acc: 0.9914\n",
      "Epoch 29/200\n",
      " - 9s - loss: 0.0267 - acc: 0.9918 - val_loss: 0.0320 - val_acc: 0.9912\n",
      "Epoch 30/200\n",
      " - 9s - loss: 0.0260 - acc: 0.9918 - val_loss: 0.0312 - val_acc: 0.9905\n",
      "Epoch 31/200\n",
      " - 9s - loss: 0.0262 - acc: 0.9919 - val_loss: 0.0329 - val_acc: 0.9907\n",
      "\n",
      "Epoch 00031: ReduceLROnPlateau reducing learning rate to 3.125000148429535e-05.\n",
      "Epoch 32/200\n",
      " - 9s - loss: 0.0264 - acc: 0.9924 - val_loss: 0.0296 - val_acc: 0.9917\n",
      "Epoch 33/200\n",
      " - 9s - loss: 0.0256 - acc: 0.9919 - val_loss: 0.0310 - val_acc: 0.9912\n",
      "Epoch 34/200\n",
      " - 9s - loss: 0.0256 - acc: 0.9925 - val_loss: 0.0317 - val_acc: 0.9910\n",
      "Epoch 35/200\n",
      " - 9s - loss: 0.0248 - acc: 0.9924 - val_loss: 0.0304 - val_acc: 0.9910\n",
      "\n",
      "Epoch 00035: ReduceLROnPlateau reducing learning rate to 1.5625000742147677e-05.\n",
      "Epoch 36/200\n",
      " - 9s - loss: 0.0249 - acc: 0.9921 - val_loss: 0.0306 - val_acc: 0.9912\n",
      "Epoch 37/200\n",
      " - 9s - loss: 0.0254 - acc: 0.9925 - val_loss: 0.0298 - val_acc: 0.9917\n"
     ]
    }
   ],
   "source": [
    "history = model.fit_generator(datagen.flow(X_train,Y_train, batch_size=batch_size),\n",
    "                              epochs = epochs, validation_data = (X_val,Y_val),\n",
    "                              verbose = 2, steps_per_epoch=X_train.shape[0] // batch_size\n",
    "                              , callbacks=[learning_rate_reduction, early_stopping])"
   ]
  },
  {
   "cell_type": "code",
   "execution_count": 19,
   "metadata": {},
   "outputs": [
    {
     "data": {
      "image/png": "[encoded data removed]",
      "text/plain": [
       "<Figure size 432x288 with 2 Axes>"
      ]
     },
     "metadata": {
      "needs_background": "light"
     },
     "output_type": "display_data"
    }
   ],
   "source": [
    "fig, ax = plt.subplots(2,1)\n",
    "ax[0].plot(history.history['loss'], color='b', label=\"Training loss\")\n",
    "ax[0].plot(history.history['val_loss'], color='r', label=\"validation loss\",axes =ax[0])\n",
    "legend = ax[0].legend(loc='best', shadow=True)\n",
    "\n",
    "ax[1].plot(history.history['acc'], color='b', label=\"Training accuracy\")\n",
    "ax[1].plot(history.history['val_acc'], color='r',label=\"Validation accuracy\")\n",
    "legend = ax[1].legend(loc='best', shadow=True)"
   ]
  },
  {
   "cell_type": "code",
   "execution_count": 20,
   "metadata": {},
   "outputs": [],
   "source": [
    "results = model.predict(test)\n",
    "\n",
    "# select the indix with the maximum probability\n",
    "results = np.argmax(results,axis = 1)\n",
    "\n",
    "results = pd.Series(results,name=\"Label\")"
   ]
  },
  {
   "cell_type": "code",
   "execution_count": 21,
   "metadata": {},
   "outputs": [],
   "source": [
    "submission = pd.concat([pd.Series(range(1,28001),name = \"ImageId\"),results],axis = 1)\n",
    "\n",
    "submission.to_csv(\"cnn_mnist_datagen.csv\",index=False)"
   ]
  },
  {
   "cell_type": "code",
   "execution_count": null,
   "metadata": {},
   "outputs": [],
   "source": []
  },
  {
   "cell_type": "code",
   "execution_count": null,
   "metadata": {},
   "outputs": [],
   "source": []
  }
 ],
 "metadata": {
  "kernelspec": {
   "display_name": "Python 3",
   "language": "python",
   "name": "python3"
  },
  "language_info": {
   "codemirror_mode": {
    "name": "ipython",
    "version": 3
   },
   "file_extension": ".py",
   "mimetype": "text/x-python",
   "name": "python",
   "nbconvert_exporter": "python",
   "pygments_lexer": "ipython3",
   "version": "3.5.6"
  }
 },
 "nbformat": 4,
 "nbformat_minor": 2
}
