{
 "cells": [
  {
   "cell_type": "code",
   "execution_count": 1,
   "metadata": {},
   "outputs": [],
   "source": [
    "import pandas as pd\n",
    "import numpy as np\n",
    "import matplotlib.pyplot as plt\n",
    "import matplotlib.image as mpimg\n",
    "import seaborn as sns\n",
    "%matplotlib inline"
   ]
  },
  {
   "cell_type": "code",
   "execution_count": 2,
   "metadata": {},
   "outputs": [],
   "source": [
    "from sklearn.model_selection import train_test_split\n",
    "from sklearn.model_selection import KFold\n",
    "from sklearn.metrics import confusion_matrix\n",
    "import itertools"
   ]
  },
  {
   "cell_type": "code",
   "execution_count": 3,
   "metadata": {},
   "outputs": [],
   "source": [
    "train = pd.read_csv(\"./train.csv\")\n",
    "test = pd.read_csv(\"./test.csv\")"
   ]
  },
  {
   "cell_type": "code",
   "execution_count": 4,
   "metadata": {},
   "outputs": [],
   "source": [
    "Y_train = train[\"label\"]\n",
    "X_train = train.drop(labels=[\"label\"],axis=1)"
   ]
  },
  {
   "cell_type": "code",
   "execution_count": 5,
   "metadata": {},
   "outputs": [
    {
     "data": {
      "text/plain": [
       "1    4684\n",
       "7    4401\n",
       "3    4351\n",
       "9    4188\n",
       "2    4177\n",
       "6    4137\n",
       "0    4132\n",
       "4    4072\n",
       "8    4063\n",
       "5    3795\n",
       "Name: label, dtype: int64"
      ]
     },
     "execution_count": 5,
     "metadata": {},
     "output_type": "execute_result"
    },
    {
     "data": {
      "image/png": "[encoded data removed]",
      "text/plain": [
       "<Figure size 432x288 with 1 Axes>"
      ]
     },
     "metadata": {
      "needs_background": "light"
     },
     "output_type": "display_data"
    }
   ],
   "source": [
    "g = sns.countplot(Y_train)\n",
    "Y_train.value_counts()"
   ]
  },
  {
   "cell_type": "code",
   "execution_count": 6,
   "metadata": {},
   "outputs": [
    {
     "data": {
      "text/plain": [
       "count       784\n",
       "unique        1\n",
       "top       False\n",
       "freq        784\n",
       "dtype: object"
      ]
     },
     "execution_count": 6,
     "metadata": {},
     "output_type": "execute_result"
    }
   ],
   "source": [
    "X_train.isnull().any().describe()"
   ]
  },
  {
   "cell_type": "code",
   "execution_count": 7,
   "metadata": {},
   "outputs": [
    {
     "data": {
      "text/plain": [
       "count       784\n",
       "unique        1\n",
       "top       False\n",
       "freq        784\n",
       "dtype: object"
      ]
     },
     "execution_count": 7,
     "metadata": {},
     "output_type": "execute_result"
    }
   ],
   "source": [
    "test.isnull().any().describe()"
   ]
  },
  {
   "cell_type": "code",
   "execution_count": 8,
   "metadata": {},
   "outputs": [],
   "source": [
    "X_train = X_train / 255.0\n",
    "test = test /255.0"
   ]
  },
  {
   "cell_type": "code",
   "execution_count": 9,
   "metadata": {},
   "outputs": [],
   "source": [
    "X_train = X_train.values.reshape(-1,28,28,1)\n",
    "test = test.values.reshape(-1,28,28,1)"
   ]
  },
  {
   "cell_type": "code",
   "execution_count": 10,
   "metadata": {},
   "outputs": [
    {
     "name": "stderr",
     "output_type": "stream",
     "text": [
      "Using TensorFlow backend.\n"
     ]
    }
   ],
   "source": [
    "from keras.utils.np_utils import to_categorical\n",
    "from keras.models import Sequential, Model\n",
    "from keras.layers import Dense, Dropout, Flatten, Conv2D, MaxPool2D, Input,Activation, AveragePooling2D, BatchNormalization\n",
    "from keras import layers\n",
    "from keras.optimizers import RMSprop\n",
    "from keras.preprocessing.image import ImageDataGenerator\n",
    "from keras.callbacks import ReduceLROnPlateau, EarlyStopping"
   ]
  },
  {
   "cell_type": "code",
   "execution_count": 11,
   "metadata": {},
   "outputs": [],
   "source": [
    "Y_train = to_categorical(Y_train, num_classes=10)\n",
    "random_seed = 2\n",
    "X_train, X_val, Y_train, Y_val = train_test_split(X_train, Y_train, test_size = 0.1, random_state=random_seed)"
   ]
  },
  {
   "cell_type": "code",
   "execution_count": 12,
   "metadata": {},
   "outputs": [],
   "source": [
    "def residual_block(a, filters):\n",
    "    for i in range(3):\n",
    "        x = Conv2D(filters=filters, kernel_size=3, padding='same')(a)\n",
    "        x = BatchNormalization()(x)\n",
    "        x = Activation('relu')(x)\n",
    "        x = Conv2D(filters=filters, kernel_size=3, padding='same')(x)\n",
    "        x = BatchNormalization()(x)\n",
    "        x = Activation('relu')(x)\n",
    "        x = layers.add([x, a])\n",
    "    x = MaxPool2D(pool_size=(1,1), strides=(2,2), padding='same')(x)\n",
    "    x = Conv2D(filters=filters*2,kernel_size=1,padding='same')(x)\n",
    "    return x\n",
    "\n",
    "input_layer = Input(shape=(28,28,1))\n",
    "x = Conv2D(filters=64, kernel_size=7, padding='same')(input_layer)\n",
    "x = MaxPool2D(pool_size=(2,2))(x)\n",
    "\n",
    "x = residual_block(x,64)\n",
    "x = residual_block(x,128)\n",
    "x = AveragePooling2D(pool_size=(2,2))(x)\n",
    "\n",
    "x = Flatten()(x)\n",
    "x = Dense(10, activation='softmax')(x)\n",
    "\n",
    "model = Model(inputs=input_layer, outputs=x)"
   ]
  },
  {
   "cell_type": "code",
   "execution_count": 13,
   "metadata": {},
   "outputs": [],
   "source": [
    "optimizer = RMSprop(lr=0.001, rho=0.9, epsilon=1e-08,decay=0.0)"
   ]
  },
  {
   "cell_type": "code",
   "execution_count": 14,
   "metadata": {},
   "outputs": [],
   "source": [
    "model.compile(optimizer=optimizer, loss=\"categorical_crossentropy\",metrics=[\"accuracy\"])"
   ]
  },
  {
   "cell_type": "code",
   "execution_count": 15,
   "metadata": {},
   "outputs": [],
   "source": [
    "learning_rate_reduction = ReduceLROnPlateau(monitor='val_acc', \n",
    "                                            patience=3, \n",
    "                                            verbose=1, \n",
    "                                            factor=0.5, \n",
    "                                            min_lr=0.00001)\n",
    "early_stopping = EarlyStopping(patience=5)"
   ]
  },
  {
   "cell_type": "code",
   "execution_count": 16,
   "metadata": {},
   "outputs": [],
   "source": [
    "epochs = 30 # Turn epochs to 30 to get 0.9967 accuracy\n",
    "batch_size = 512"
   ]
  },
  {
   "cell_type": "code",
   "execution_count": 17,
   "metadata": {},
   "outputs": [],
   "source": [
    "datagen = ImageDataGenerator(\n",
    "        featurewise_center=False,  # set input mean to 0 over the dataset\n",
    "        samplewise_center=False,  # set each sample mean to 0\n",
    "        featurewise_std_normalization=False,  # divide inputs by std of the dataset\n",
    "        samplewise_std_normalization=False,  # divide each input by its std\n",
    "        zca_whitening=False,  # apply ZCA whitening\n",
    "        rotation_range=10,  # randomly rotate images in the range (degrees, 0 to 180)\n",
    "        zoom_range = 0.1, # Randomly zoom image \n",
    "        width_shift_range=0.1,  # randomly shift images horizontally (fraction of total width)\n",
    "        height_shift_range=0.1,  # randomly shift images vertically (fraction of total height)\n",
    "        horizontal_flip=False,  # randomly flip images\n",
    "        vertical_flip=False)  # randomly flip images\n",
    "\n",
    "\n",
    "datagen.fit(X_train)"
   ]
  },
  {
   "cell_type": "code",
   "execution_count": 18,
   "metadata": {},
   "outputs": [
    {
     "name": "stdout",
     "output_type": "stream",
     "text": [
      "Epoch 1/30\n",
      " - 10s - loss: 0.5892 - acc: 0.8237 - val_loss: 0.4324 - val_acc: 0.8750\n",
      "Epoch 2/30\n",
      " - 8s - loss: 0.1429 - acc: 0.9545 - val_loss: 0.0647 - val_acc: 0.9800\n",
      "Epoch 3/30\n",
      " - 9s - loss: 0.0904 - acc: 0.9713 - val_loss: 0.0868 - val_acc: 0.9774\n",
      "Epoch 4/30\n",
      " - 8s - loss: 0.0705 - acc: 0.9778 - val_loss: 0.0604 - val_acc: 0.9829\n",
      "Epoch 5/30\n",
      " - 8s - loss: 0.0603 - acc: 0.9814 - val_loss: 0.0676 - val_acc: 0.9810\n",
      "Epoch 6/30\n",
      " - 8s - loss: 0.0544 - acc: 0.9831 - val_loss: 0.0663 - val_acc: 0.9776\n",
      "Epoch 7/30\n",
      " - 8s - loss: 0.0494 - acc: 0.9848 - val_loss: 0.1317 - val_acc: 0.9602\n",
      "\n",
      "Epoch 00007: ReduceLROnPlateau reducing learning rate to 0.0005000000237487257.\n",
      "Epoch 8/30\n",
      " - 9s - loss: 0.0296 - acc: 0.9904 - val_loss: 0.0416 - val_acc: 0.9867\n",
      "Epoch 9/30\n",
      " - 8s - loss: 0.0279 - acc: 0.9911 - val_loss: 0.0433 - val_acc: 0.9860\n",
      "Epoch 10/30\n",
      " - 8s - loss: 0.0240 - acc: 0.9925 - val_loss: 0.0261 - val_acc: 0.9917\n",
      "Epoch 11/30\n",
      " - 8s - loss: 0.0242 - acc: 0.9920 - val_loss: 0.0226 - val_acc: 0.9938\n",
      "Epoch 12/30\n",
      " - 9s - loss: 0.0239 - acc: 0.9924 - val_loss: 0.0340 - val_acc: 0.9910\n",
      "Epoch 13/30\n",
      " - 9s - loss: 0.0228 - acc: 0.9922 - val_loss: 0.0270 - val_acc: 0.9905\n",
      "Epoch 14/30\n",
      " - 8s - loss: 0.0212 - acc: 0.9933 - val_loss: 0.0392 - val_acc: 0.9895\n",
      "\n",
      "Epoch 00014: ReduceLROnPlateau reducing learning rate to 0.0002500000118743628.\n",
      "Epoch 15/30\n",
      " - 8s - loss: 0.0176 - acc: 0.9945 - val_loss: 0.0181 - val_acc: 0.9936\n",
      "Epoch 16/30\n",
      " - 9s - loss: 0.0164 - acc: 0.9949 - val_loss: 0.0196 - val_acc: 0.9945\n",
      "Epoch 17/30\n",
      " - 8s - loss: 0.0148 - acc: 0.9953 - val_loss: 0.0181 - val_acc: 0.9950\n",
      "Epoch 18/30\n",
      " - 8s - loss: 0.0139 - acc: 0.9954 - val_loss: 0.0184 - val_acc: 0.9940\n",
      "Epoch 19/30\n",
      " - 9s - loss: 0.0140 - acc: 0.9956 - val_loss: 0.0178 - val_acc: 0.9936\n",
      "Epoch 20/30\n",
      " - 8s - loss: 0.0118 - acc: 0.9961 - val_loss: 0.0233 - val_acc: 0.9931\n",
      "\n",
      "Epoch 00020: ReduceLROnPlateau reducing learning rate to 0.0001250000059371814.\n",
      "Epoch 21/30\n",
      " - 9s - loss: 0.0108 - acc: 0.9968 - val_loss: 0.0226 - val_acc: 0.9933\n",
      "Epoch 22/30\n",
      " - 8s - loss: 0.0109 - acc: 0.9968 - val_loss: 0.0193 - val_acc: 0.9950\n",
      "Epoch 23/30\n",
      " - 8s - loss: 0.0094 - acc: 0.9973 - val_loss: 0.0152 - val_acc: 0.9950\n",
      "\n",
      "Epoch 00023: ReduceLROnPlateau reducing learning rate to 6.25000029685907e-05.\n",
      "Epoch 24/30\n",
      " - 8s - loss: 0.0097 - acc: 0.9972 - val_loss: 0.0166 - val_acc: 0.9952\n",
      "Epoch 25/30\n",
      " - 8s - loss: 0.0089 - acc: 0.9976 - val_loss: 0.0182 - val_acc: 0.9950\n",
      "Epoch 26/30\n",
      " - 8s - loss: 0.0087 - acc: 0.9975 - val_loss: 0.0187 - val_acc: 0.9945\n",
      "Epoch 27/30\n",
      " - 8s - loss: 0.0084 - acc: 0.9978 - val_loss: 0.0179 - val_acc: 0.9952\n",
      "\n",
      "Epoch 00027: ReduceLROnPlateau reducing learning rate to 3.125000148429535e-05.\n",
      "Epoch 28/30\n",
      " - 8s - loss: 0.0085 - acc: 0.9975 - val_loss: 0.0160 - val_acc: 0.9948\n"
     ]
    }
   ],
   "source": [
    "history = model.fit_generator(datagen.flow(X_train,Y_train, batch_size=batch_size),\n",
    "                              epochs = epochs, validation_data = (X_val,Y_val),\n",
    "                              verbose = 2, steps_per_epoch=X_train.shape[0] // batch_size\n",
    "                              , callbacks=[learning_rate_reduction, early_stopping])"
   ]
  },
  {
   "cell_type": "code",
   "execution_count": 19,
   "metadata": {},
   "outputs": [
    {
     "data": {
      "image/png": "[encoded data removed]",
      "text/plain": [
       "<Figure size 432x288 with 2 Axes>"
      ]
     },
     "metadata": {
      "needs_background": "light"
     },
     "output_type": "display_data"
    }
   ],
   "source": [
    "fig, ax = plt.subplots(2,1)\n",
    "ax[0].plot(history.history['loss'], color='b', label=\"Training loss\")\n",
    "ax[0].plot(history.history['val_loss'], color='r', label=\"validation loss\",axes =ax[0])\n",
    "legend = ax[0].legend(loc='best', shadow=True)\n",
    "\n",
    "ax[1].plot(history.history['acc'], color='b', label=\"Training accuracy\")\n",
    "ax[1].plot(history.history['val_acc'], color='r',label=\"Validation accuracy\")\n",
    "legend = ax[1].legend(loc='best', shadow=True)"
   ]
  },
  {
   "cell_type": "code",
   "execution_count": 20,
   "metadata": {},
   "outputs": [],
   "source": [
    "results = model.predict(test)\n",
    "\n",
    "# select the indix with the maximum probability\n",
    "results = np.argmax(results,axis = 1)\n",
    "\n",
    "results = pd.Series(results,name=\"Label\")"
   ]
  },
  {
   "cell_type": "code",
   "execution_count": 21,
   "metadata": {},
   "outputs": [],
   "source": [
    "submission = pd.concat([pd.Series(range(1,28001),name = \"ImageId\"),results],axis = 1)\n",
    "\n",
    "submission.to_csv(\"cnn_mnist_datagen.csv\",index=False)"
   ]
  },
  {
   "cell_type": "code",
   "execution_count": null,
   "metadata": {},
   "outputs": [],
   "source": []
  },
  {
   "cell_type": "code",
   "execution_count": null,
   "metadata": {},
   "outputs": [],
   "source": []
  }
 ],
 "metadata": {
  "kernelspec": {
   "display_name": "Python 3",
   "language": "python",
   "name": "python3"
  },
  "language_info": {
   "codemirror_mode": {
    "name": "ipython",
    "version": 3
   },
   "file_extension": ".py",
   "mimetype": "text/x-python",
   "name": "python",
   "nbconvert_exporter": "python",
   "pygments_lexer": "ipython3",
   "version": "3.5.6"
  }
 },
 "nbformat": 4,
 "nbformat_minor": 2
}
